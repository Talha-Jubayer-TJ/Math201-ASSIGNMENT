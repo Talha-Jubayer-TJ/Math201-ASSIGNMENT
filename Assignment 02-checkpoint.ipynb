{
 "cells": [
  {
   "cell_type": "markdown",
   "metadata": {},
   "source": [
    "Q.1 Write a function called rectangle that takes two integers m and n as arguments and prints out an m × n box consisting of asterisks."
   ]
  },
  {
   "cell_type": "code",
   "execution_count": 8,
   "metadata": {},
   "outputs": [
    {
     "name": "stdout",
     "output_type": "stream",
     "text": [
      "Enter Height of the rectangle: 4\n",
      "Enter Width of the rectangle: 4\n",
      "Output Rectangle \n",
      "* * * * \n",
      "* * * * \n",
      "* * * * \n",
      "* * * * \n"
     ]
    }
   ],
   "source": [
    "def rectangle(m,n):\n",
    "    for i in range(m):\n",
    "        for j in range(n):\n",
    "            print(end='* ')\n",
    "        print()\n",
    "height=int(input('Enter Rectangle Height: '))\n",
    "weight=int(input('Enter Rectangle Width: '))\n",
    "print('Output Rectangle ')\n",
    "rectangle(height,weight)\n"
   ]
  },
  {
   "cell_type": "markdown",
   "metadata": {},
   "source": [
    "Q.2 Write a function called add_excitement that takes a list of strings and adds an exclamation point ( ! ) to the end of each string in the list. The program should modify the original list and not return anything."
   ]
  },
  {
   "cell_type": "code",
   "execution_count": 4,
   "metadata": {},
   "outputs": [
    {
     "name": "stdout",
     "output_type": "stream",
     "text": [
      "How many lines do you want?2\n",
      "Enter your string:hi\n",
      "Enter your string:talha\n",
      "['hi!', 'talha!']\n"
     ]
    }
   ],
   "source": [
    "def Add_excitment(list):\n",
    "    i=0\n",
    "    while i<len(list):\n",
    "        list[i]=list[i]+'!'\n",
    "        i=i+1\n",
    "lines=input('How many lines do you want?')\n",
    "lines=int(lines)\n",
    "ok_list=['s'] * lines\n",
    "j=0\n",
    "while j<len(ok_list):\n",
    "    ok_list[j]=input('TEXT:')\n",
    "    j=j+1\n",
    "Add_excitment(ok_list)\n",
    "print(ok_list)\n"
   ]
  },
  {
   "cell_type": "markdown",
   "metadata": {},
   "source": [
    "Q.3 Write the same function except that it should not modify the original list and should instead return a new list."
   ]
  },
  {
   "cell_type": "code",
   "execution_count": 6,
   "metadata": {},
   "outputs": [
    {
     "name": "stdout",
     "output_type": "stream",
     "text": [
      "How many lines do you want?2\n",
      "Enter your text:hi\n",
      "Enter your text:hlw\n",
      "Before Calling The Function\n",
      "Input List : ['hi', 'hlw']\n",
      "After Calling The Function\n",
      "Input List:  ['hi', 'hlw']\n",
      "New List:  ['hi!', 'hlw!']\n"
     ]
    }
   ],
   "source": [
    "def Add_excitment(list):\n",
    "    new_list=[]\n",
    "    i=0\n",
    "    while i<len(list):\n",
    "        new_list.insert(i,list[i]+'!')\n",
    "        i=i+1\n",
    "    return new_list\n",
    "lines=input('How many lines do you want?')\n",
    "lines=int(lines)\n",
    "ok_list=['s'] * lines\n",
    "j=0\n",
    "while j<len(ok_list):\n",
    "    ok_list[j]=input('Enter your text:')\n",
    "    j=j+1\n",
    "print('Before call\\nInput List :',ok_list)\n",
    "res_list=Add_excitment(ok_list)\n",
    "print('After Call\\nInput List: ',ok_list)\n",
    "print('New List: ',res_list)\n"
   ]
  },
  {
   "cell_type": "markdown",
   "metadata": {},
   "source": [
    "Q.4 The digital root of a number n is obtained as follows: Add up the digits n to get a new number. Add up the digits of that to get another new number. Keep doing this until you get a number that has only one digit. That number is the digital root. For example, if n = 45893 , we add up the digits to get 4 + 5 + 8 + 9 + 3 = 29 . We then add up the digits of 29 to get 2 + 9 = 11 . We then add up the digits of 11 to get 1 + 1 = 2 . Since 2 has only one digit, 2 is our digital root. Write a function that returns the digital root of an integer n . [Note: there is a shortcut, where the digital root is equal to n mod 9, but do not use that here.]"
   ]
  },
  {
   "cell_type": "code",
   "execution_count": 1,
   "metadata": {},
   "outputs": [
    {
     "name": "stdout",
     "output_type": "stream",
     "text": [
      "Enter Number45893\n",
      "Digital Root of 45893 is 2\n"
     ]
    }
   ],
   "source": [
    "def Sum(n):\n",
    "    sum=0\n",
    "    for i in n:\n",
    "        sum=sum+int(i)\n",
    "    return sum\n",
    "def Digital_Root(num):\n",
    "    x=Sum(num)\n",
    "    while x>9:\n",
    "        y=str(x)\n",
    "        x=Sum(y)\n",
    "    return x\n",
    "m=input('Enter Number')\n",
    "a=Digital_Root(m)\n",
    "print('Digital Root of',m,'is',a)\n"
   ]
  },
  {
   "cell_type": "markdown",
   "metadata": {},
   "source": [
    "Q.5 Write a function that takes an integer n and returns a random integer with exactly n digits. For instance, if n is 3, then 125 and 593 would be valid return values, but 093 would not because that is really 93, which is a two-digit number."
   ]
  },
  {
   "cell_type": "code",
   "execution_count": 2,
   "metadata": {},
   "outputs": [
    {
     "name": "stdout",
     "output_type": "stream",
     "text": [
      "Enter A Number: 3\n",
      "The Random Value of 3 digit is : 871\n"
     ]
    }
   ],
   "source": [
    "def Random(num):\n",
    "    x=int(num)   \n",
    "    i=1\n",
    "    low='1'\n",
    "    while i<x:\n",
    "        low=low+'0'\n",
    "        i=i+1\n",
    "        \n",
    "    high=low+'0'\n",
    "    low=int(low)\n",
    "    high=int(high)-1\n",
    "    \n",
    "    import random\n",
    "    z=random.randint(low,high)\n",
    "    return z\n",
    "\n",
    "number=input('Enter A Number: ')\n",
    "value=Random(number)\n",
    "print('The Random Value of',number,'digit is :',value)\n"
   ]
  },
  {
   "cell_type": "markdown",
   "metadata": {},
   "source": [
    "Q.6 Write a function called matches that takes two strings as arguments and returns how many matches there are between the strings. A match is where the two strings have the same character at the same index. For instance, ' python ' and ' path ' match in the first, third, and fourth characters, so the function should return 3."
   ]
  },
  {
   "cell_type": "code",
   "execution_count": 4,
   "metadata": {},
   "outputs": [
    {
     "name": "stdout",
     "output_type": "stream",
     "text": [
      "Enter any word:python\n",
      "Enter another word:path\n",
      "the words have 3 matches\n"
     ]
    }
   ],
   "source": [
    "def matches(string_1,string_2):\n",
    "    num_1=len(string_1)\n",
    "    num_2=len(string_2)\n",
    "    res=0\n",
    "    i=0\n",
    "    if(num_1<num_2):\n",
    "        while(i<num_1):\n",
    "            if(string_1[i]==string_2[i]):\n",
    "                res=res+1\n",
    "            i=i+1\n",
    "    else:\n",
    "        while(i<num_2):\n",
    "            if(string_1[i]==string_2[i]):\n",
    "                res=res+1\n",
    "            i=i+1\n",
    "    return res\n",
    "word_1=input(\"Enter any word:\")\n",
    "word_2=input('Enter another word:')\n",
    "z=matches(word_1,word_2)\n",
    "print('the words have',z,'matches')\n"
   ]
  },
  {
   "cell_type": "markdown",
   "metadata": {},
   "source": [
    "Q.7 Write a function called primes that is given a number n and returns a list of the first n primes. Let the default value of n be 100."
   ]
  },
  {
   "cell_type": "code",
   "execution_count": 5,
   "metadata": {},
   "outputs": [
    {
     "name": "stdout",
     "output_type": "stream",
     "text": [
      "Enter a Number:10\n",
      "Prime Numbers upto 10 \n",
      " [2, 3, 5, 7]\n"
     ]
    }
   ],
   "source": [
    "def primes(n):\n",
    "    list_index=0\n",
    "    list=[]\n",
    "    i=2\n",
    "    while i<=n:\n",
    "        is_prime=True\n",
    "        j=2\n",
    "        while is_prime==True and j<i:\n",
    "            if i%j==0:\n",
    "                is_prime=False\n",
    "            j=j+1\n",
    "        if is_prime==True:\n",
    "            list.insert(list_index,i)\n",
    "            list_index=list_index+1\n",
    "        i=i+1\n",
    "    return list\n",
    "number=int(input('Enter a Number:'))\n",
    "prime_list=primes(number)\n",
    "print('Prime Numbers upto',number,'\\n',prime_list)\n"
   ]
  },
  {
   "cell_type": "markdown",
   "metadata": {},
   "source": [
    "Q.8 Recall that if s is a string, then s.find( ' a ' ) will find the location of the first a in s . The problem is that it does not find the location of every a. Write a function called findall that given a string and a single character, returns a list containing all of the locations of that character in the string. It should return an empty list if there are no occurrences of the character in the string."
   ]
  },
  {
   "cell_type": "code",
   "execution_count": 6,
   "metadata": {},
   "outputs": [
    {
     "name": "stdout",
     "output_type": "stream",
     "text": [
      "Enter a String: jubayer\n",
      "Enter a Character: y\n",
      "The position's of character y in the string\n",
      " [4]\n"
     ]
    }
   ],
   "source": [
    "def findall(string,character):\n",
    "    list=[]\n",
    "    list_index=0\n",
    "    j=0\n",
    "    for c in string:\n",
    "        if c==character:\n",
    "            list.insert(list_index,j)\n",
    "            list_index=list_index+1\n",
    "        j=j+1\n",
    "    return list\n",
    "my_string=input('Enter a String: ')\n",
    "my_character=input('Enter a Character: ')\n",
    "res_list=findall(my_string,my_character)\n",
    "print(\"The position's of character\",my_character,'in the string\\n',res_list)\n"
   ]
  }
 ],
 "metadata": {
  "kernelspec": {
   "display_name": "Python 3",
   "language": "python",
   "name": "python3"
  },
  "language_info": {
   "codemirror_mode": {
    "name": "ipython",
    "version": 3
   },
   "file_extension": ".py",
   "mimetype": "text/x-python",
   "name": "python",
   "nbconvert_exporter": "python",
   "pygments_lexer": "ipython3",
   "version": "3.7.1"
  }
 },
 "nbformat": 4,
 "nbformat_minor": 2
}
